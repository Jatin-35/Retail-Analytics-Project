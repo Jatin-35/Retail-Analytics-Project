{
 "cells": [
  {
   "cell_type": "code",
   "execution_count": 1,
   "id": "5b295d17",
   "metadata": {},
   "outputs": [],
   "source": [
    "import pandas as pd\n",
    "from pathlib import Path"
   ]
  },
  {
   "cell_type": "code",
   "execution_count": 2,
   "id": "c02de68c",
   "metadata": {},
   "outputs": [
    {
     "name": "stdout",
     "output_type": "stream",
     "text": [
      "Initial shape: (541909, 8)\n"
     ]
    }
   ],
   "source": [
    "# Load dataset\n",
    "df = pd.read_csv('../data/raw/data.csv', encoding='ISO-8859-1')\n",
    "print(\"Initial shape:\", df.shape)"
   ]
  },
  {
   "cell_type": "code",
   "execution_count": 3,
   "id": "934e8b36",
   "metadata": {},
   "outputs": [],
   "source": [
    "# Drop rows with missing critical fields\n",
    "df.dropna(subset=['CustomerID', 'StockCode', 'UnitPrice'], inplace=True)"
   ]
  },
  {
   "cell_type": "code",
   "execution_count": 4,
   "id": "45ef803f",
   "metadata": {},
   "outputs": [],
   "source": [
    "# Remove cancelled/refunded orders (InvoiceNo starting with 'C')\n",
    "df = df[~df['InvoiceNo'].astype(str).str.startswith('C')]"
   ]
  },
  {
   "cell_type": "code",
   "execution_count": 5,
   "id": "aa5361e6",
   "metadata": {},
   "outputs": [],
   "source": [
    "# Remove zero or negative values\n",
    "df = df[(df['Quantity'] > 0) & (df['UnitPrice'] > 0)]"
   ]
  },
  {
   "cell_type": "code",
   "execution_count": 6,
   "id": "5237aa5c",
   "metadata": {},
   "outputs": [],
   "source": [
    "# Convert InvoiceDate to datetime\n",
    "df['InvoiceDate'] = pd.to_datetime(df['InvoiceDate'])"
   ]
  },
  {
   "cell_type": "code",
   "execution_count": 7,
   "id": "b7c728da",
   "metadata": {},
   "outputs": [],
   "source": [
    "# Feature engineering\n",
    "df['Revenue'] = df['Quantity'] * df['UnitPrice']\n",
    "df['Year'] = df['InvoiceDate'].dt.year\n",
    "df['Month'] = df['InvoiceDate'].dt.month\n",
    "df['Weekday'] = df['InvoiceDate'].dt.day_name()\n"
   ]
  },
  {
   "cell_type": "code",
   "execution_count": 8,
   "id": "a4f220bd",
   "metadata": {},
   "outputs": [
    {
     "name": "stdout",
     "output_type": "stream",
     "text": [
      "Cleaned shape: (397884, 12)\n",
      "Remaining nulls:\n",
      " InvoiceNo      0\n",
      "StockCode      0\n",
      "Description    0\n",
      "Quantity       0\n",
      "InvoiceDate    0\n",
      "UnitPrice      0\n",
      "CustomerID     0\n",
      "Country        0\n",
      "Revenue        0\n",
      "Year           0\n",
      "Month          0\n",
      "Weekday        0\n",
      "dtype: int64\n"
     ]
    }
   ],
   "source": [
    "# Preview cleaned data\n",
    "print(\"Cleaned shape:\", df.shape)\n",
    "print(\"Remaining nulls:\\n\", df.isnull().sum())\n"
   ]
  },
  {
   "cell_type": "code",
   "execution_count": 9,
   "id": "ba85fd6a",
   "metadata": {},
   "outputs": [
    {
     "name": "stdout",
     "output_type": "stream",
     "text": [
      "Cleaned dataset saved.\n"
     ]
    }
   ],
   "source": [
    "# Save cleaned file\n",
    "Path('../data/processed').mkdir(parents=True, exist_ok=True)\n",
    "df.to_csv('../data/processed/cleaned_retail_data.csv', index=False)\n",
    "print(\"Cleaned dataset saved.\")"
   ]
  }
 ],
 "metadata": {
  "kernelspec": {
   "display_name": "Retail-Analytics-Project",
   "language": "python",
   "name": "python3"
  },
  "language_info": {
   "codemirror_mode": {
    "name": "ipython",
    "version": 3
   },
   "file_extension": ".py",
   "mimetype": "text/x-python",
   "name": "python",
   "nbconvert_exporter": "python",
   "pygments_lexer": "ipython3",
   "version": "3.10.11"
  }
 },
 "nbformat": 4,
 "nbformat_minor": 5
}
